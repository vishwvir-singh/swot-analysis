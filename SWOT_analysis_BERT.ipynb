{
  "nbformat": 4,
  "nbformat_minor": 0,
  "metadata": {
    "colab": {
      "name": "SWOT_analysis_BERT.ipynb",
      "provenance": [],
      "collapsed_sections": [],
      "authorship_tag": "ABX9TyM26mZIoOumzoRzKYc8a5Wx",
      "include_colab_link": true
    },
    "kernelspec": {
      "name": "python3",
      "display_name": "Python 3"
    },
    "accelerator": "GPU",
    "widgets": {
      "application/vnd.jupyter.widget-state+json": {
        "30c45639d8364fd6ace6d9c8e8420827": {
          "model_module": "@jupyter-widgets/controls",
          "model_name": "HBoxModel",
          "state": {
            "_view_name": "HBoxView",
            "_dom_classes": [],
            "_model_name": "HBoxModel",
            "_view_module": "@jupyter-widgets/controls",
            "_model_module_version": "1.5.0",
            "_view_count": null,
            "_view_module_version": "1.5.0",
            "box_style": "",
            "layout": "IPY_MODEL_77e9dc521cd645f4aecbf50c7cc1f268",
            "_model_module": "@jupyter-widgets/controls",
            "children": [
              "IPY_MODEL_efa090bf923247ef9a42f19db8bfddfa",
              "IPY_MODEL_4ee158ea248a4fc3b48be8ee92a8a132"
            ]
          }
        },
        "77e9dc521cd645f4aecbf50c7cc1f268": {
          "model_module": "@jupyter-widgets/base",
          "model_name": "LayoutModel",
          "state": {
            "_view_name": "LayoutView",
            "grid_template_rows": null,
            "right": null,
            "justify_content": null,
            "_view_module": "@jupyter-widgets/base",
            "overflow": null,
            "_model_module_version": "1.2.0",
            "_view_count": null,
            "flex_flow": null,
            "width": null,
            "min_width": null,
            "border": null,
            "align_items": null,
            "bottom": null,
            "_model_module": "@jupyter-widgets/base",
            "top": null,
            "grid_column": null,
            "overflow_y": null,
            "overflow_x": null,
            "grid_auto_flow": null,
            "grid_area": null,
            "grid_template_columns": null,
            "flex": null,
            "_model_name": "LayoutModel",
            "justify_items": null,
            "grid_row": null,
            "max_height": null,
            "align_content": null,
            "visibility": null,
            "align_self": null,
            "height": null,
            "min_height": null,
            "padding": null,
            "grid_auto_rows": null,
            "grid_gap": null,
            "max_width": null,
            "order": null,
            "_view_module_version": "1.2.0",
            "grid_template_areas": null,
            "object_position": null,
            "object_fit": null,
            "grid_auto_columns": null,
            "margin": null,
            "display": null,
            "left": null
          }
        },
        "efa090bf923247ef9a42f19db8bfddfa": {
          "model_module": "@jupyter-widgets/controls",
          "model_name": "FloatProgressModel",
          "state": {
            "_view_name": "ProgressView",
            "style": "IPY_MODEL_aee85b9684a641e4b07646ddd62ac6ef",
            "_dom_classes": [],
            "description": "Downloading: 100%",
            "_model_name": "FloatProgressModel",
            "bar_style": "success",
            "max": 231508,
            "_view_module": "@jupyter-widgets/controls",
            "_model_module_version": "1.5.0",
            "value": 231508,
            "_view_count": null,
            "_view_module_version": "1.5.0",
            "orientation": "horizontal",
            "min": 0,
            "description_tooltip": null,
            "_model_module": "@jupyter-widgets/controls",
            "layout": "IPY_MODEL_6a944fe0c01c447197f2915916eb03c0"
          }
        },
        "4ee158ea248a4fc3b48be8ee92a8a132": {
          "model_module": "@jupyter-widgets/controls",
          "model_name": "HTMLModel",
          "state": {
            "_view_name": "HTMLView",
            "style": "IPY_MODEL_63cbd71ede85477dbdf6b4d0406eb207",
            "_dom_classes": [],
            "description": "",
            "_model_name": "HTMLModel",
            "placeholder": "​",
            "_view_module": "@jupyter-widgets/controls",
            "_model_module_version": "1.5.0",
            "value": " 232k/232k [00:00&lt;00:00, 801kB/s]",
            "_view_count": null,
            "_view_module_version": "1.5.0",
            "description_tooltip": null,
            "_model_module": "@jupyter-widgets/controls",
            "layout": "IPY_MODEL_9ecdf493ce0f443aa74906a26237826c"
          }
        },
        "aee85b9684a641e4b07646ddd62ac6ef": {
          "model_module": "@jupyter-widgets/controls",
          "model_name": "ProgressStyleModel",
          "state": {
            "_view_name": "StyleView",
            "_model_name": "ProgressStyleModel",
            "description_width": "initial",
            "_view_module": "@jupyter-widgets/base",
            "_model_module_version": "1.5.0",
            "_view_count": null,
            "_view_module_version": "1.2.0",
            "bar_color": null,
            "_model_module": "@jupyter-widgets/controls"
          }
        },
        "6a944fe0c01c447197f2915916eb03c0": {
          "model_module": "@jupyter-widgets/base",
          "model_name": "LayoutModel",
          "state": {
            "_view_name": "LayoutView",
            "grid_template_rows": null,
            "right": null,
            "justify_content": null,
            "_view_module": "@jupyter-widgets/base",
            "overflow": null,
            "_model_module_version": "1.2.0",
            "_view_count": null,
            "flex_flow": null,
            "width": null,
            "min_width": null,
            "border": null,
            "align_items": null,
            "bottom": null,
            "_model_module": "@jupyter-widgets/base",
            "top": null,
            "grid_column": null,
            "overflow_y": null,
            "overflow_x": null,
            "grid_auto_flow": null,
            "grid_area": null,
            "grid_template_columns": null,
            "flex": null,
            "_model_name": "LayoutModel",
            "justify_items": null,
            "grid_row": null,
            "max_height": null,
            "align_content": null,
            "visibility": null,
            "align_self": null,
            "height": null,
            "min_height": null,
            "padding": null,
            "grid_auto_rows": null,
            "grid_gap": null,
            "max_width": null,
            "order": null,
            "_view_module_version": "1.2.0",
            "grid_template_areas": null,
            "object_position": null,
            "object_fit": null,
            "grid_auto_columns": null,
            "margin": null,
            "display": null,
            "left": null
          }
        },
        "63cbd71ede85477dbdf6b4d0406eb207": {
          "model_module": "@jupyter-widgets/controls",
          "model_name": "DescriptionStyleModel",
          "state": {
            "_view_name": "StyleView",
            "_model_name": "DescriptionStyleModel",
            "description_width": "",
            "_view_module": "@jupyter-widgets/base",
            "_model_module_version": "1.5.0",
            "_view_count": null,
            "_view_module_version": "1.2.0",
            "_model_module": "@jupyter-widgets/controls"
          }
        },
        "9ecdf493ce0f443aa74906a26237826c": {
          "model_module": "@jupyter-widgets/base",
          "model_name": "LayoutModel",
          "state": {
            "_view_name": "LayoutView",
            "grid_template_rows": null,
            "right": null,
            "justify_content": null,
            "_view_module": "@jupyter-widgets/base",
            "overflow": null,
            "_model_module_version": "1.2.0",
            "_view_count": null,
            "flex_flow": null,
            "width": null,
            "min_width": null,
            "border": null,
            "align_items": null,
            "bottom": null,
            "_model_module": "@jupyter-widgets/base",
            "top": null,
            "grid_column": null,
            "overflow_y": null,
            "overflow_x": null,
            "grid_auto_flow": null,
            "grid_area": null,
            "grid_template_columns": null,
            "flex": null,
            "_model_name": "LayoutModel",
            "justify_items": null,
            "grid_row": null,
            "max_height": null,
            "align_content": null,
            "visibility": null,
            "align_self": null,
            "height": null,
            "min_height": null,
            "padding": null,
            "grid_auto_rows": null,
            "grid_gap": null,
            "max_width": null,
            "order": null,
            "_view_module_version": "1.2.0",
            "grid_template_areas": null,
            "object_position": null,
            "object_fit": null,
            "grid_auto_columns": null,
            "margin": null,
            "display": null,
            "left": null
          }
        },
        "961f148826cf4cd1bbdff8f5d237197a": {
          "model_module": "@jupyter-widgets/controls",
          "model_name": "HBoxModel",
          "state": {
            "_view_name": "HBoxView",
            "_dom_classes": [],
            "_model_name": "HBoxModel",
            "_view_module": "@jupyter-widgets/controls",
            "_model_module_version": "1.5.0",
            "_view_count": null,
            "_view_module_version": "1.5.0",
            "box_style": "",
            "layout": "IPY_MODEL_16e58f74e0604d37a6d26a3cfb1b333c",
            "_model_module": "@jupyter-widgets/controls",
            "children": [
              "IPY_MODEL_5970a7ac16104174843040c6a72eb728",
              "IPY_MODEL_0635242aa92c48b3b48e02ecc65afb58"
            ]
          }
        },
        "16e58f74e0604d37a6d26a3cfb1b333c": {
          "model_module": "@jupyter-widgets/base",
          "model_name": "LayoutModel",
          "state": {
            "_view_name": "LayoutView",
            "grid_template_rows": null,
            "right": null,
            "justify_content": null,
            "_view_module": "@jupyter-widgets/base",
            "overflow": null,
            "_model_module_version": "1.2.0",
            "_view_count": null,
            "flex_flow": null,
            "width": null,
            "min_width": null,
            "border": null,
            "align_items": null,
            "bottom": null,
            "_model_module": "@jupyter-widgets/base",
            "top": null,
            "grid_column": null,
            "overflow_y": null,
            "overflow_x": null,
            "grid_auto_flow": null,
            "grid_area": null,
            "grid_template_columns": null,
            "flex": null,
            "_model_name": "LayoutModel",
            "justify_items": null,
            "grid_row": null,
            "max_height": null,
            "align_content": null,
            "visibility": null,
            "align_self": null,
            "height": null,
            "min_height": null,
            "padding": null,
            "grid_auto_rows": null,
            "grid_gap": null,
            "max_width": null,
            "order": null,
            "_view_module_version": "1.2.0",
            "grid_template_areas": null,
            "object_position": null,
            "object_fit": null,
            "grid_auto_columns": null,
            "margin": null,
            "display": null,
            "left": null
          }
        },
        "5970a7ac16104174843040c6a72eb728": {
          "model_module": "@jupyter-widgets/controls",
          "model_name": "FloatProgressModel",
          "state": {
            "_view_name": "ProgressView",
            "style": "IPY_MODEL_5d2e10c1b3584dc99a94feda51612b72",
            "_dom_classes": [],
            "description": "Downloading: 100%",
            "_model_name": "FloatProgressModel",
            "bar_style": "success",
            "max": 536063208,
            "_view_module": "@jupyter-widgets/controls",
            "_model_module_version": "1.5.0",
            "value": 536063208,
            "_view_count": null,
            "_view_module_version": "1.5.0",
            "orientation": "horizontal",
            "min": 0,
            "description_tooltip": null,
            "_model_module": "@jupyter-widgets/controls",
            "layout": "IPY_MODEL_ed9470dda21942b497f43a27ea9fe373"
          }
        },
        "0635242aa92c48b3b48e02ecc65afb58": {
          "model_module": "@jupyter-widgets/controls",
          "model_name": "HTMLModel",
          "state": {
            "_view_name": "HTMLView",
            "style": "IPY_MODEL_3ec64692361b4a29aa5903899750d11a",
            "_dom_classes": [],
            "description": "",
            "_model_name": "HTMLModel",
            "placeholder": "​",
            "_view_module": "@jupyter-widgets/controls",
            "_model_module_version": "1.5.0",
            "value": " 536M/536M [00:12&lt;00:00, 43.0MB/s]",
            "_view_count": null,
            "_view_module_version": "1.5.0",
            "description_tooltip": null,
            "_model_module": "@jupyter-widgets/controls",
            "layout": "IPY_MODEL_565cac2f5f1b41609d982b03414a654f"
          }
        },
        "5d2e10c1b3584dc99a94feda51612b72": {
          "model_module": "@jupyter-widgets/controls",
          "model_name": "ProgressStyleModel",
          "state": {
            "_view_name": "StyleView",
            "_model_name": "ProgressStyleModel",
            "description_width": "initial",
            "_view_module": "@jupyter-widgets/base",
            "_model_module_version": "1.5.0",
            "_view_count": null,
            "_view_module_version": "1.2.0",
            "bar_color": null,
            "_model_module": "@jupyter-widgets/controls"
          }
        },
        "ed9470dda21942b497f43a27ea9fe373": {
          "model_module": "@jupyter-widgets/base",
          "model_name": "LayoutModel",
          "state": {
            "_view_name": "LayoutView",
            "grid_template_rows": null,
            "right": null,
            "justify_content": null,
            "_view_module": "@jupyter-widgets/base",
            "overflow": null,
            "_model_module_version": "1.2.0",
            "_view_count": null,
            "flex_flow": null,
            "width": null,
            "min_width": null,
            "border": null,
            "align_items": null,
            "bottom": null,
            "_model_module": "@jupyter-widgets/base",
            "top": null,
            "grid_column": null,
            "overflow_y": null,
            "overflow_x": null,
            "grid_auto_flow": null,
            "grid_area": null,
            "grid_template_columns": null,
            "flex": null,
            "_model_name": "LayoutModel",
            "justify_items": null,
            "grid_row": null,
            "max_height": null,
            "align_content": null,
            "visibility": null,
            "align_self": null,
            "height": null,
            "min_height": null,
            "padding": null,
            "grid_auto_rows": null,
            "grid_gap": null,
            "max_width": null,
            "order": null,
            "_view_module_version": "1.2.0",
            "grid_template_areas": null,
            "object_position": null,
            "object_fit": null,
            "grid_auto_columns": null,
            "margin": null,
            "display": null,
            "left": null
          }
        },
        "3ec64692361b4a29aa5903899750d11a": {
          "model_module": "@jupyter-widgets/controls",
          "model_name": "DescriptionStyleModel",
          "state": {
            "_view_name": "StyleView",
            "_model_name": "DescriptionStyleModel",
            "description_width": "",
            "_view_module": "@jupyter-widgets/base",
            "_model_module_version": "1.5.0",
            "_view_count": null,
            "_view_module_version": "1.2.0",
            "_model_module": "@jupyter-widgets/controls"
          }
        },
        "565cac2f5f1b41609d982b03414a654f": {
          "model_module": "@jupyter-widgets/base",
          "model_name": "LayoutModel",
          "state": {
            "_view_name": "LayoutView",
            "grid_template_rows": null,
            "right": null,
            "justify_content": null,
            "_view_module": "@jupyter-widgets/base",
            "overflow": null,
            "_model_module_version": "1.2.0",
            "_view_count": null,
            "flex_flow": null,
            "width": null,
            "min_width": null,
            "border": null,
            "align_items": null,
            "bottom": null,
            "_model_module": "@jupyter-widgets/base",
            "top": null,
            "grid_column": null,
            "overflow_y": null,
            "overflow_x": null,
            "grid_auto_flow": null,
            "grid_area": null,
            "grid_template_columns": null,
            "flex": null,
            "_model_name": "LayoutModel",
            "justify_items": null,
            "grid_row": null,
            "max_height": null,
            "align_content": null,
            "visibility": null,
            "align_self": null,
            "height": null,
            "min_height": null,
            "padding": null,
            "grid_auto_rows": null,
            "grid_gap": null,
            "max_width": null,
            "order": null,
            "_view_module_version": "1.2.0",
            "grid_template_areas": null,
            "object_position": null,
            "object_fit": null,
            "grid_auto_columns": null,
            "margin": null,
            "display": null,
            "left": null
          }
        }
      }
    }
  },
  "cells": [
    {
      "cell_type": "markdown",
      "metadata": {
        "id": "view-in-github",
        "colab_type": "text"
      },
      "source": [
        "<a href=\"https://colab.research.google.com/github/vishwvir-singh/swot-analysis/blob/master/SWOT_analysis_BERT.ipynb\" target=\"_parent\"><img src=\"https://colab.research.google.com/assets/colab-badge.svg\" alt=\"Open In Colab\"/></a>"
      ]
    },
    {
      "cell_type": "code",
      "metadata": {
        "id": "knvAu8tqiTOv"
      },
      "source": [
        "!pip install transformers"
      ],
      "execution_count": null,
      "outputs": []
    },
    {
      "cell_type": "code",
      "metadata": {
        "id": "uw8nbd74jJla"
      },
      "source": [
        "import tensorflow as tf\n",
        "import torch\n",
        "import pandas as pd\n",
        "import numpy as np\n",
        "import json"
      ],
      "execution_count": 2,
      "outputs": []
    },
    {
      "cell_type": "code",
      "metadata": {
        "id": "vR5n_KKNjYub",
        "outputId": "a7e83016-42de-4f92-bf3e-c74759312bf8",
        "colab": {
          "base_uri": "https://localhost:8080/",
          "height": 52
        }
      },
      "source": [
        "if torch.cuda.is_available():       \n",
        "    device = torch.device(\"cuda\")\n",
        "    print(f'There are {torch.cuda.device_count()} GPU(s) available.')\n",
        "    print('Device name:', torch.cuda.get_device_name(0))\n",
        "\n",
        "else:\n",
        "    print('No GPU available, using the CPU instead.')\n",
        "    device = torch.device(\"cpu\")"
      ],
      "execution_count": 3,
      "outputs": [
        {
          "output_type": "stream",
          "text": [
            "There are 1 GPU(s) available.\n",
            "Device name: Tesla T4\n"
          ],
          "name": "stdout"
        }
      ]
    },
    {
      "cell_type": "code",
      "metadata": {
        "id": "A-BEniqEP7Ol",
        "outputId": "e80a4d8f-962b-4a4b-cf21-b7223f02d0cd",
        "colab": {
          "base_uri": "https://localhost:8080/",
          "height": 52
        }
      },
      "source": [
        "from google.colab import drive\n",
        "drive.mount('/gdrive')\n",
        "%cd /gdrive/My Drive/Deep_Learning/SWOT_analysis/data\n",
        "\n",
        "with open('swot_analysis_data.json') as f:\n",
        "  data = json.load(f)"
      ],
      "execution_count": 4,
      "outputs": [
        {
          "output_type": "stream",
          "text": [
            "Mounted at /gdrive\n",
            "/gdrive/My Drive/Deep_Learning/SWOT_analysis/data\n"
          ],
          "name": "stdout"
        }
      ]
    },
    {
      "cell_type": "code",
      "metadata": {
        "id": "K3Q44FY2Z02r",
        "outputId": "d1e9b543-9a20-4bd7-ab56-ec647e5fc5ef",
        "colab": {
          "base_uri": "https://localhost:8080/",
          "height": 90
        }
      },
      "source": [
        "data[0]"
      ],
      "execution_count": 7,
      "outputs": [
        {
          "output_type": "execute_result",
          "data": {
            "text/plain": [
              "{'description': \"Lawsuits could result in huge penalties and affect the company's reputation. In December, 2018, Kove IO, Inc, a US-based storage appliances provider, filed a patent infringement lawsuit against Amazon Web Services (AWS) in the US District Court for the Northern District of Illinois. In its lawsuit, Kove alleged that AWS used its technology as a basic unit of its cloud business. Kove further said that it patented technology that allowed hyperscalable distributed cloud storage much before the development of the cloud.\",\n",
              " 'type': 'weaknesses',\n",
              " 'word_count': 81}"
            ]
          },
          "metadata": {
            "tags": []
          },
          "execution_count": 7
        }
      ]
    },
    {
      "cell_type": "code",
      "metadata": {
        "id": "y8b2YkueVlO3"
      },
      "source": [
        "def get_texts_labels(data):\n",
        "  texts, labels = [], []\n",
        "  lable_mapping = {\n",
        "      \"weaknesses\": 0,\n",
        "      \"opportunities\" :1,\n",
        "      \"strengths\": 2,\n",
        "      \"threats\": 3\n",
        "  }\n",
        "  for e in data:\n",
        "    if e[\"word_count\"] < 150:\n",
        "      texts.append(e['description'])\n",
        "      labels.append(lable_mapping[e['type']])\n",
        "  return texts, labels"
      ],
      "execution_count": 8,
      "outputs": []
    },
    {
      "cell_type": "code",
      "metadata": {
        "id": "PSqHhK1GZHBQ",
        "outputId": "bcf58df9-6b35-45e5-a6ec-67608330e546",
        "colab": {
          "base_uri": "https://localhost:8080/",
          "height": 34
        }
      },
      "source": [
        "texts, labels = get_texts_labels(data)\n",
        "print(len(texts))"
      ],
      "execution_count": 9,
      "outputs": [
        {
          "output_type": "stream",
          "text": [
            "39144\n"
          ],
          "name": "stdout"
        }
      ]
    },
    {
      "cell_type": "code",
      "metadata": {
        "id": "-wz5R66ak4o6",
        "outputId": "01af6113-6d22-44ab-9630-533b8e7cc9d8",
        "colab": {
          "base_uri": "https://localhost:8080/",
          "height": 105
        }
      },
      "source": [
        "from sklearn.model_selection import train_test_split\n",
        "train_texts, test_texts, train_labels, test_labels = train_test_split(\n",
        "    texts, \n",
        "    labels, \n",
        "    test_size=.1, \n",
        "    random_state=42,\n",
        "    shuffle=True)\n",
        "\n",
        "_data = {\n",
        "    'texts' : train_texts,\n",
        "    'labels' : train_labels\n",
        "    }\n",
        "\n",
        "train_pd = pd.DataFrame.from_dict(_data)\n",
        "\n",
        "train_pd['labels'].value_counts()"
      ],
      "execution_count": 10,
      "outputs": [
        {
          "output_type": "execute_result",
          "data": {
            "text/plain": [
              "2    12219\n",
              "1     9704\n",
              "3     8096\n",
              "0     5210\n",
              "Name: labels, dtype: int64"
            ]
          },
          "metadata": {
            "tags": []
          },
          "execution_count": 10
        }
      ]
    },
    {
      "cell_type": "code",
      "metadata": {
        "id": "mbjsVAW6lMdg",
        "outputId": "eeb7a90e-4dfa-4686-e953-0199f8ab3e3d",
        "colab": {
          "base_uri": "https://localhost:8080/",
          "height": 66,
          "referenced_widgets": [
            "30c45639d8364fd6ace6d9c8e8420827",
            "77e9dc521cd645f4aecbf50c7cc1f268",
            "efa090bf923247ef9a42f19db8bfddfa",
            "4ee158ea248a4fc3b48be8ee92a8a132",
            "aee85b9684a641e4b07646ddd62ac6ef",
            "6a944fe0c01c447197f2915916eb03c0",
            "63cbd71ede85477dbdf6b4d0406eb207",
            "9ecdf493ce0f443aa74906a26237826c"
          ]
        }
      },
      "source": [
        "from transformers import BertTokenizer\n",
        "# Load the BERT tokenizer\n",
        "tokenizer = BertTokenizer.from_pretrained('bert-base-uncased', do_lower_case=True)"
      ],
      "execution_count": 11,
      "outputs": [
        {
          "output_type": "display_data",
          "data": {
            "application/vnd.jupyter.widget-view+json": {
              "model_id": "30c45639d8364fd6ace6d9c8e8420827",
              "version_minor": 0,
              "version_major": 2
            },
            "text/plain": [
              "HBox(children=(FloatProgress(value=0.0, description='Downloading', max=231508.0, style=ProgressStyle(descripti…"
            ]
          },
          "metadata": {
            "tags": []
          }
        },
        {
          "output_type": "stream",
          "text": [
            "\n"
          ],
          "name": "stdout"
        }
      ]
    },
    {
      "cell_type": "code",
      "metadata": {
        "id": "sZwFssNFmAyI"
      },
      "source": [
        "def get_max_len(train_texts, train_labels):\n",
        "  _train_texts, _train_labels, = [], []\n",
        "  max_len = 0\n",
        "  bert_max_len = 512\n",
        "  for id, sent in enumerate(train_texts):\n",
        "    input_ids = tokenizer.encode(sent, add_special_tokens=True)\n",
        "    max_len = max(max_len, len(input_ids))\n",
        "    if len(input_ids) < bert_max_len:\n",
        "      _train_texts.append(sent)\n",
        "      _train_labels.append(train_labels[id])\n",
        "  print('max_len :', max_len)\n",
        "  print('train_len :', len(_train_texts))\n",
        "  return max_len"
      ],
      "execution_count": null,
      "outputs": []
    },
    {
      "cell_type": "code",
      "metadata": {
        "id": "BFghi-2GoOET",
        "outputId": "8e0ab9d6-78e5-4f3a-f5c1-1d7451ab3123",
        "colab": {
          "base_uri": "https://localhost:8080/",
          "height": 70
        }
      },
      "source": [
        "max_len = get_max_len(texts, labels)\n",
        "max_len = max_len + 10\n",
        "print('max_len :' , max_len)"
      ],
      "execution_count": null,
      "outputs": [
        {
          "output_type": "stream",
          "text": [
            "max_len : 311\n",
            "train_len : 39144\n",
            "max_len : 321\n"
          ],
          "name": "stdout"
        }
      ]
    },
    {
      "cell_type": "code",
      "metadata": {
        "id": "GTXNkOlFmA0m"
      },
      "source": [
        "# max_len = 3000\n",
        "def tokenize_dataset(texts, labels, tokenizer, max_len):\n",
        "  input_ids, attention_mask_ids, token_type_ids = [], [], []\n",
        "  for text in texts:\n",
        "    encoded_text = tokenizer.encode_plus(text, \n",
        "                        add_special_tokens = True,\n",
        "                        max_length = max_len,\n",
        "                        padding='max_length',\n",
        "                        return_attention_mask = True,\n",
        "                        return_token_type_ids=True,\n",
        "                        truncation = True)\n",
        "\n",
        "    input_ids.append(encoded_text['input_ids'])\n",
        "    attention_mask_ids.append(encoded_text['attention_mask'])\n",
        "    token_type_ids.append(encoded_text['token_type_ids'])\n",
        "\n",
        "  return np.array(input_ids), np.array(attention_mask_ids), np.array(token_type_ids)\n",
        "\n",
        "train_dataset = tokenize_dataset(train_texts, train_labels, tokenizer, max_len)\n",
        "test_dataset = tokenize_dataset(test_texts, test_labels, tokenizer, max_len)"
      ],
      "execution_count": 13,
      "outputs": []
    },
    {
      "cell_type": "code",
      "metadata": {
        "id": "j096XJEr5mIS"
      },
      "source": [
        "from transformers import TFBertModel, BertConfig"
      ],
      "execution_count": 17,
      "outputs": []
    },
    {
      "cell_type": "code",
      "metadata": {
        "id": "jCTHCgNGesym",
        "outputId": "67897237-1387-47f1-bb62-a060a31b00e9",
        "colab": {
          "base_uri": "https://localhost:8080/",
          "height": 175,
          "referenced_widgets": [
            "961f148826cf4cd1bbdff8f5d237197a",
            "16e58f74e0604d37a6d26a3cfb1b333c",
            "5970a7ac16104174843040c6a72eb728",
            "0635242aa92c48b3b48e02ecc65afb58",
            "5d2e10c1b3584dc99a94feda51612b72",
            "ed9470dda21942b497f43a27ea9fe373",
            "3ec64692361b4a29aa5903899750d11a",
            "565cac2f5f1b41609d982b03414a654f"
          ]
        }
      },
      "source": [
        "from transformers import TFBertModel, BertConfig\n",
        "n_classes = 4\n",
        "# config = BertConfig(num_labels= n_classes, dropout=0.2, attention_dropout=0.2)\n",
        "config = BertConfig(num_labels= n_classes)\n",
        "# config.output_hidden_states = False\n",
        "transformer_model = TFBertModel.from_pretrained('bert-base-uncased', config = config)\n",
        "\n",
        "input_ids_in = tf.keras.layers.Input(shape=(max_len,), name=\"input_ids\", dtype='int32')\n",
        "input_masks_in = tf.keras.layers.Input(shape=(max_len,), name=\"attention_mask_ids\", dtype='int32') \n",
        "input_token_in = tf.keras.layers.Input(shape=(max_len,), name=\"token_type_ids\", dtype='int32') \n",
        "\n",
        "embedding_layer = transformer_model(input_ids_in, attention_mask=input_masks_in, token_type_ids= input_token_in,)[0]\n",
        "\n",
        "# x = tf.keras.layers.Bidirectional(tf.keras.layers.LSTM(50, return_sequences=True, dropout=0.1, recurrent_dropout=0.1))(embedding_layer[:, 0, :])\n",
        "# x = tf.keras.layers.GlobalMaxPool1D()(x)\n",
        "# x = tf.keras.layers.Dense(50, kernel_initializer='he_uniform', activation='relu')(x)\n",
        "# x = tf.keras.layers.Dropout(0.2)(x)\n",
        "\n",
        "# cls_token = embedding_layer[:,0,:]\n",
        "# x = tf.keras.layers.BatchNormalization()(cls_token)\n",
        "# x = tf.keras.layers.Dense(192, kernel_initializer='he_uniform', activation='relu')(x)\n",
        "# x = tf.keras.layers.Dropout(0.2)(x)\n",
        "\n",
        "# x = tf.keras.layers.Dense(256, activation='relu', kernel_initializer='he_uniform')(embedding_layer[:, 0, :])\n",
        "x = tf.keras.layers.Dense(256, activation='relu')(embedding_layer[:, 0, :])\n",
        "x = tf.keras.layers.Dropout(0.3)(x)\n",
        "# x = tf.keras.layers.Dense(32, activation='relu', kernel_initializer='he_uniform')(x)\n",
        "x = tf.keras.layers.Dense(32, activation='relu')(x)\n",
        "x = tf.keras.layers.Dropout(0.1)(x)\n",
        "\n",
        "# X = tf.keras.layers.Dense(n_classes, activation='sigmoid')(x)\n",
        "X = tf.keras.layers.Dense(n_classes, activation='softmax')(x)\n",
        "\n",
        "model = tf.keras.Model(inputs=[input_ids_in, input_masks_in, input_token_in], outputs = X)\n",
        "\n",
        "# for layer in model.layers[:3]:\n",
        "#   layer.trainable = False"
      ],
      "execution_count": 18,
      "outputs": [
        {
          "output_type": "display_data",
          "data": {
            "application/vnd.jupyter.widget-view+json": {
              "model_id": "961f148826cf4cd1bbdff8f5d237197a",
              "version_minor": 0,
              "version_major": 2
            },
            "text/plain": [
              "HBox(children=(FloatProgress(value=0.0, description='Downloading', max=536063208.0, style=ProgressStyle(descri…"
            ]
          },
          "metadata": {
            "tags": []
          }
        },
        {
          "output_type": "stream",
          "text": [
            "\n"
          ],
          "name": "stdout"
        },
        {
          "output_type": "stream",
          "text": [
            "Some weights of the model checkpoint at bert-base-uncased were not used when initializing TFBertModel: ['nsp___cls', 'mlm___cls']\n",
            "- This IS expected if you are initializing TFBertModel from the checkpoint of a model trained on another task or with another architecture (e.g. initializing a BertForSequenceClassification model from a BertForPretraining model).\n",
            "- This IS NOT expected if you are initializing TFBertModel from the checkpoint of a model that you expect to be exactly identical (initializing a BertForSequenceClassification model from a BertForSequenceClassification model).\n",
            "All the weights of TFBertModel were initialized from the model checkpoint at bert-base-uncased.\n",
            "If your task is similar to the task the model of the checkpoint was trained on, you can already use TFBertModel for predictions without further training.\n"
          ],
          "name": "stderr"
        }
      ]
    },
    {
      "cell_type": "code",
      "metadata": {
        "id": "tOqSwatD4vFH"
      },
      "source": [
        "from tensorflow.keras.optimizers import Adam\n",
        "optimizer = Adam(\n",
        "    lr = 8e-5\n",
        "  )\n",
        "# loss = tf.keras.losses.SparseCategoricalCrossentropy(from_logits=True)\n",
        "# loss = tf.keras.losses.categorical_crossentropy(from_logits=True)\n",
        "model.compile(\n",
        "    loss=\"sparse_categorical_crossentropy\",\n",
        "    # loss = loss,\n",
        "    optimizer= optimizer,\n",
        "    # metrics=[\"accuracy\"]\n",
        "    metrics=[\"sparse_categorical_accuracy\"])"
      ],
      "execution_count": 19,
      "outputs": []
    },
    {
      "cell_type": "code",
      "metadata": {
        "id": "Nv73L1kfLtbe",
        "outputId": "b14c0ccd-cc31-4413-f8ea-e038011a83f8",
        "colab": {
          "base_uri": "https://localhost:8080/",
          "height": 250
        }
      },
      "source": [
        "history = model.fit(\n",
        "    # train_dataset,\n",
        "    {\n",
        "        \"input_ids\": train_dataset[0],\n",
        "        \"attention_mask_ids\": train_dataset[1],\n",
        "        \"token_type_ids\": train_dataset[2]\n",
        "    },\n",
        "    np.array(train_labels),\n",
        "    epochs = 2,\n",
        "    batch_size = 16)\n",
        "    # validation_split = 0.2)"
      ],
      "execution_count": 20,
      "outputs": [
        {
          "output_type": "stream",
          "text": [
            "Epoch 1/4\n",
            "WARNING:tensorflow:Gradients do not exist for variables ['tf_bert_model/bert/pooler/dense/kernel:0', 'tf_bert_model/bert/pooler/dense/bias:0'] when minimizing the loss.\n",
            "WARNING:tensorflow:Gradients do not exist for variables ['tf_bert_model/bert/pooler/dense/kernel:0', 'tf_bert_model/bert/pooler/dense/bias:0'] when minimizing the loss.\n",
            "WARNING:tensorflow:Gradients do not exist for variables ['tf_bert_model/bert/pooler/dense/kernel:0', 'tf_bert_model/bert/pooler/dense/bias:0'] when minimizing the loss.\n",
            "WARNING:tensorflow:Gradients do not exist for variables ['tf_bert_model/bert/pooler/dense/kernel:0', 'tf_bert_model/bert/pooler/dense/bias:0'] when minimizing the loss.\n",
            "2202/2202 [==============================] - 2561s 1s/step - loss: 0.2739 - sparse_categorical_accuracy: 0.9131\n",
            "Epoch 2/4\n",
            "2202/2202 [==============================] - 2572s 1s/step - loss: 0.1737 - sparse_categorical_accuracy: 0.9457\n",
            "Epoch 3/4\n",
            "2202/2202 [==============================] - 2573s 1s/step - loss: 0.1426 - sparse_categorical_accuracy: 0.9566\n",
            "Epoch 4/4\n",
            "2202/2202 [==============================] - 2572s 1s/step - loss: 0.1203 - sparse_categorical_accuracy: 0.9636\n"
          ],
          "name": "stdout"
        }
      ]
    },
    {
      "cell_type": "code",
      "metadata": {
        "id": "wzi6CIB53WjN"
      },
      "source": [
        "history.history.keys()"
      ],
      "execution_count": null,
      "outputs": []
    },
    {
      "cell_type": "code",
      "metadata": {
        "id": "9BaWxX7lIYl2",
        "outputId": "b9126160-476d-428d-b6d1-9f7ed6d23baa",
        "colab": {
          "base_uri": "https://localhost:8080/",
          "height": 87
        }
      },
      "source": [
        "history.history"
      ],
      "execution_count": null,
      "outputs": [
        {
          "output_type": "execute_result",
          "data": {
            "text/plain": [
              "{'loss': [1.193697214126587],\n",
              " 'sparse_categorical_accuracy': [0.45872583985328674],\n",
              " 'val_loss': [0.9285802841186523],\n",
              " 'val_sparse_categorical_accuracy': [0.7159508466720581]}"
            ]
          },
          "metadata": {
            "tags": []
          },
          "execution_count": 51
        }
      ]
    },
    {
      "cell_type": "code",
      "metadata": {
        "id": "ezeKiRE1y1pW"
      },
      "source": [
        "import matplotlib.pyplot as plt\n",
        "import seaborn as sns\n",
        "import statistics\n",
        "import math\n",
        "import pandas as pd\n",
        "# This plot will look much better if we train models with more epochs, but anyway here is\n",
        "plt.figure(figsize=(10, 10))\n",
        "plt.title('Accuracy')\n",
        "\n",
        "xaxis = np.arange(len(history.history['sparse_categorical_accuracy']))\n",
        "plt.plot(xaxis, history.history['sparse_categorical_accuracy'], label='Train set')\n",
        "plt.plot(xaxis, history.history['val_sparse_categorical_accuracy'], label='Validation set')\n",
        "plt.legend()"
      ],
      "execution_count": null,
      "outputs": []
    },
    {
      "cell_type": "code",
      "metadata": {
        "id": "OdrlpLPUy1vg"
      },
      "source": [
        "y_pred = model.predict(test_dataset)\n",
        "y_pred = [np.argmax(i) for i in model.predict(test_dataset)]\n",
        "\n",
        "con_mat = tf.math.confusion_matrix(labels=test_labels, predictions=y_pred).numpy()\n",
        "\n",
        "con_mat_norm = np.around(con_mat.astype('float') / con_mat.sum(axis=1)[:, np.newaxis], decimals=2)\n",
        "label_names = list(range(len(con_mat_norm)))\n",
        "\n",
        "con_mat_df = pd.DataFrame(con_mat_norm,\n",
        "                          index=label_names, \n",
        "                          columns=label_names)\n",
        "\n",
        "figure = plt.figure(figsize=(10, 10))\n",
        "sns.heatmap(con_mat_df, cmap=plt.cm.Blues, annot=True)\n",
        "plt.ylabel('True label')\n",
        "plt.xlabel('Predicted label')"
      ],
      "execution_count": null,
      "outputs": []
    }
  ]
}