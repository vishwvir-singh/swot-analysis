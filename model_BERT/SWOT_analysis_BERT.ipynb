{
  "nbformat": 4,
  "nbformat_minor": 0,
  "metadata": {
    "colab": {
      "name": "SWOT_analysis_BERT.ipynb",
      "provenance": [],
      "collapsed_sections": [],
      "authorship_tag": "ABX9TyPWp+ClXmQ14SbrbjbGZUM7",
      "include_colab_link": true
    },
    "kernelspec": {
      "name": "python3",
      "display_name": "Python 3"
    },
    "accelerator": "GPU"
  },
  "cells": [
    {
      "cell_type": "markdown",
      "metadata": {
        "id": "view-in-github",
        "colab_type": "text"
      },
      "source": [
        "<a href=\"https://colab.research.google.com/github/vishwvir-singh/swot-analysis/blob/master/SWOT_analysis_BERT.ipynb\" target=\"_parent\"><img src=\"https://colab.research.google.com/assets/colab-badge.svg\" alt=\"Open In Colab\"/></a>"
      ]
    },
    {
      "cell_type": "code",
      "metadata": {
        "id": "nShmUAFpkcJw"
      },
      "source": [
        "!pip install transformers"
      ],
      "execution_count": null,
      "outputs": []
    },
    {
      "cell_type": "code",
      "metadata": {
        "id": "pA9p8eoNkl2H"
      },
      "source": [
        "import tensorflow as tf\n",
        "import torch\n",
        "import pandas as pd\n",
        "import numpy as np\n",
        "import json\n",
        "\n",
        "from google.colab import drive\n",
        "from sklearn.model_selection import train_test_split\n",
        "from transformers import BertTokenizer\n",
        "from transformers import TFBertModel, BertConfig\n",
        "from tensorflow.keras.optimizers import Adam\n",
        "\n",
        "import matplotlib.pyplot as plt\n",
        "import seaborn as sns\n",
        "import statistics\n",
        "import math"
      ],
      "execution_count": null,
      "outputs": []
    },
    {
      "cell_type": "code",
      "metadata": {
        "id": "BCa_De-Lkl4k",
        "outputId": "144f98d2-fbfc-429c-b6e9-0f73333f3567",
        "colab": {
          "base_uri": "https://localhost:8080/",
          "height": 52
        }
      },
      "source": [
        "if torch.cuda.is_available():       \n",
        "    device = torch.device(\"cuda\")\n",
        "    print(f'There are {torch.cuda.device_count()} GPU(s) available.')\n",
        "    print('Device name:', torch.cuda.get_device_name(0))\n",
        "\n",
        "else:\n",
        "    print('No GPU available, using the CPU instead.')\n",
        "    device = torch.device(\"cpu\")"
      ],
      "execution_count": null,
      "outputs": [
        {
          "output_type": "stream",
          "text": [
            "There are 1 GPU(s) available.\n",
            "Device name: Tesla T4\n"
          ],
          "name": "stdout"
        }
      ]
    },
    {
      "cell_type": "code",
      "metadata": {
        "id": "Dw2GpfNPkl7E"
      },
      "source": [
        "\n",
        "def get_swot_data():\n",
        "    # from google.colab import drive\n",
        "    # drive.mount('/gdrive')\n",
        "    # %cd /gdrive/My Drive/deep_learning/SWOT_BERT/\n",
        "    with open('swot_analysis_data.json') as f:\n",
        "        data = json.load(f)\n",
        "    return data"
      ],
      "execution_count": null,
      "outputs": []
    },
    {
      "cell_type": "code",
      "metadata": {
        "id": "AvjWBX7OkmAV"
      },
      "source": [
        "def get_lables():\n",
        "    lable_mapping = {\n",
        "        \"weaknesses\": 0,\n",
        "        \"opportunities\" :1,\n",
        "        \"strengths\": 2,\n",
        "        \"threats\": 3\n",
        "    }\n",
        "    return lable_mapping"
      ],
      "execution_count": null,
      "outputs": []
    },
    {
      "cell_type": "code",
      "metadata": {
        "id": "ZQL72kEvkl9x"
      },
      "source": [
        "def get_texts_labels(data):\n",
        "    lable_mapping = get_lables()\n",
        "    texts, labels = [], []\n",
        "    for e in data:\n",
        "        if e[\"word_count\"] < 160:\n",
        "            texts.append(e['description'])\n",
        "            labels.append(lable_mapping[e['type']])\n",
        "    print(\"len texts : \", len(texts))\n",
        "    return texts, labels"
      ],
      "execution_count": null,
      "outputs": []
    },
    {
      "cell_type": "code",
      "metadata": {
        "id": "se9ff0x_kmC8"
      },
      "source": [
        "def split_data(texts,labels):\n",
        "    texts_df = pd.DataFrame.from_dict({\n",
        "        'texts' : texts,\n",
        "        'labels' : labels\n",
        "        })\n",
        "    n_classes = texts_df['labels'].nunique()\n",
        "    train_texts, test_texts, train_labels, test_labels = train_test_split(\n",
        "        texts, \n",
        "        labels, \n",
        "        test_size=.1, \n",
        "        random_state=42,\n",
        "        shuffle=True)\n",
        "\n",
        "    train_pd = pd.DataFrame.from_dict({\n",
        "        'texts' : train_texts,\n",
        "        'labels' : train_labels\n",
        "        })\n",
        "\n",
        "    print(train_pd['labels'].value_counts())\n",
        "    return train_texts, test_texts, train_labels, test_labels, n_classes"
      ],
      "execution_count": null,
      "outputs": []
    },
    {
      "cell_type": "code",
      "metadata": {
        "id": "gD3x1C8JkmFj"
      },
      "source": [
        "def get_max_len_filter_data(texts, labels, tokenizer):\n",
        "    _texts, _labels = [], []\n",
        "    max_len = 0\n",
        "    bert_max_len = 350\n",
        "    for id, sent in enumerate(texts):\n",
        "        input_ids = tokenizer.encode(sent, add_special_tokens=True)\n",
        "        max_len = max(max_len, len(input_ids))\n",
        "        if len(input_ids) < bert_max_len:\n",
        "            _texts.append(sent)\n",
        "            _labels.append(labels[id])\n",
        "    print('max_len :', max_len)\n",
        "    print('texts_len :', len(_texts))\n",
        "    print('considered max_len :', bert_max_len)\n",
        "    return _texts, _labels, bert_max_len"
      ],
      "execution_count": null,
      "outputs": []
    },
    {
      "cell_type": "code",
      "metadata": {
        "id": "aab0y0-CkmIX"
      },
      "source": [
        "def tokenize_dataset(texts, labels, tokenizer, max_len):\n",
        "    input_ids, attention_mask_ids, token_type_ids = [], [], []\n",
        "    for text in texts:\n",
        "        encoded_text = tokenizer.encode_plus(text, \n",
        "                            add_special_tokens = True,\n",
        "                            max_length = max_len,\n",
        "                            padding='max_length',\n",
        "                            return_attention_mask = True,\n",
        "                            return_token_type_ids=True,\n",
        "                            truncation = True)\n",
        "\n",
        "        input_ids.append(encoded_text['input_ids'])\n",
        "        attention_mask_ids.append(encoded_text['attention_mask'])\n",
        "        token_type_ids.append(encoded_text['token_type_ids'])\n",
        "\n",
        "    return np.array(input_ids), np.array(attention_mask_ids), np.array(token_type_ids)"
      ],
      "execution_count": null,
      "outputs": []
    },
    {
      "cell_type": "code",
      "metadata": {
        "id": "XonHrTszEB-2"
      },
      "source": [
        "def get_tokenizer():\n",
        "    tokenizer = BertTokenizer.from_pretrained('bert-base-uncased', do_lower_case=True)\n",
        "    return tokenizer"
      ],
      "execution_count": null,
      "outputs": []
    },
    {
      "cell_type": "code",
      "metadata": {
        "id": "VOvsn1eLkmKy"
      },
      "source": [
        "def get_model(n_classes, max_len):\n",
        "    print(\"Generating Model\")\n",
        "    config = BertConfig(num_labels= n_classes)\n",
        "    transformer_model = TFBertModel.from_pretrained('bert-base-uncased', config = config)\n",
        "\n",
        "    input_ids_in = tf.keras.layers.Input(shape=(max_len,), name=\"input_ids\", dtype='int32')\n",
        "    input_masks_in = tf.keras.layers.Input(shape=(max_len,), name=\"attention_mask_ids\", dtype='int32') \n",
        "    input_token_in = tf.keras.layers.Input(shape=(max_len,), name=\"token_type_ids\", dtype='int32') \n",
        "\n",
        "    embedding_layer = transformer_model(input_ids_in, attention_mask=input_masks_in, token_type_ids= input_token_in,)[0]\n",
        "    x = tf.keras.layers.Dense(256, activation='relu')(embedding_layer[:, 0, :])\n",
        "    x = tf.keras.layers.Dropout(0.3)(x)\n",
        "    x = tf.keras.layers.Dense(32, activation='relu')(x)\n",
        "    x = tf.keras.layers.Dropout(0.1)(x)\n",
        "\n",
        "    X = tf.keras.layers.Dense(n_classes, activation='softmax')(x)\n",
        "    model = tf.keras.Model(inputs=[input_ids_in, input_masks_in, input_token_in], outputs = X)\n",
        "\n",
        "    optimizer = Adam(lr = 8e-5)\n",
        "    model.compile(\n",
        "        loss=\"sparse_categorical_crossentropy\",\n",
        "        optimizer= optimizer,\n",
        "        metrics=[\"sparse_categorical_accuracy\"])\n",
        "\n",
        "    return model"
      ],
      "execution_count": null,
      "outputs": []
    },
    {
      "cell_type": "code",
      "metadata": {
        "id": "QhTd_eHOkmNq"
      },
      "source": [
        "def fit_model(model, train_dataset, train_labels):\n",
        "    history = model.fit(\n",
        "        {\n",
        "            \"input_ids\": train_dataset[0],\n",
        "            \"attention_mask_ids\": train_dataset[1],\n",
        "            \"token_type_ids\": train_dataset[2]\n",
        "        },\n",
        "        np.array(train_labels),\n",
        "        epochs = 3,\n",
        "        batch_size = 16)\n",
        "    \n",
        "    plt.figure(figsize=(10, 10))\n",
        "    plt.title('Accuracy')\n",
        "\n",
        "    xaxis = np.arange(len(history.history['sparse_categorical_accuracy']))\n",
        "    plt.plot(xaxis, history.history['sparse_categorical_accuracy'], label='Train set')\n",
        "    plt.legend()\n",
        "\n",
        "    return model\n",
        "    "
      ],
      "execution_count": null,
      "outputs": []
    },
    {
      "cell_type": "code",
      "metadata": {
        "id": "cpz9Kh-PrXzf"
      },
      "source": [
        "def predict(model, test_dataset, test_labels):\n",
        "    y_pred = [np.argmax(i) for i in model.predict(test_dataset)]\n",
        "\n",
        "    con_mat = tf.math.confusion_matrix(labels=test_labels, predictions=y_pred).numpy()\n",
        "\n",
        "    con_mat_norm = np.around(con_mat.astype('float') / con_mat.sum(axis=1)[:, np.newaxis], decimals=2)\n",
        "    label_names = list(range(len(con_mat_norm)))\n",
        "\n",
        "    con_mat_df = pd.DataFrame(con_mat_norm,index=label_names,columns=label_names)\n",
        "\n",
        "    figure = plt.figure(figsize=(10, 10))\n",
        "    sns.heatmap(con_mat_df, cmap=plt.cm.Blues, annot=True)\n",
        "    plt.ylabel('True label')\n",
        "    plt.xlabel('Predicted label')"
      ],
      "execution_count": null,
      "outputs": []
    },
    {
      "cell_type": "code",
      "metadata": {
        "id": "eq9B6DPE-s3k"
      },
      "source": [
        "def main(train_model = False):\n",
        "    swot_data = get_swot_data()\n",
        "    tokenizer = get_tokenizer()\n",
        "    texts, labels = get_texts_labels(swot_data)\n",
        "    texts, labels, max_len = get_max_len_filter_data(texts, labels, tokenizer)\n",
        "    train_texts, test_texts, train_labels, test_labels, n_classes = split_data(texts,labels)\n",
        "    train_dataset = tokenize_dataset(train_texts, train_labels, tokenizer, max_len)\n",
        "    test_dataset = tokenize_dataset(test_texts, test_labels, tokenizer, max_len)\n",
        "\n",
        "    model = get_model(n_classes, max_len)\n",
        "    if train_model:\n",
        "        model = fit_model(model, train_dataset, train_labels)\n",
        "        model.save_weights('swot_analysis_bert_weights')\n",
        "    else:\n",
        "        model.load_weights('swot_analysis_bert_weights')\n",
        "        predict(model, test_dataset, test_labels)"
      ],
      "execution_count": null,
      "outputs": []
    },
    {
      "cell_type": "code",
      "metadata": {
        "id": "7FDIIJ-hBiID",
        "outputId": "42bb7689-1e50-45b9-b18b-4ba896ee1c04",
        "colab": {
          "base_uri": "https://localhost:8080/",
          "height": 516
        }
      },
      "source": [
        "main(train_model = True)"
      ],
      "execution_count": null,
      "outputs": [
        {
          "output_type": "stream",
          "text": [
            "Drive already mounted at /gdrive; to attempt to forcibly remount, call drive.mount(\"/gdrive\", force_remount=True).\n",
            "/gdrive/My Drive/deep_learning/SWOT_BERT\n",
            "len texts :  40847\n",
            "max_len : 317\n",
            "train_len : 40847\n",
            "considered max_len : 350\n",
            "2    12651\n",
            "1    10194\n",
            "3     8614\n",
            "0     5303\n",
            "Name: labels, dtype: int64\n",
            "Generating Model\n"
          ],
          "name": "stdout"
        },
        {
          "output_type": "stream",
          "text": [
            "Some weights of the model checkpoint at bert-base-uncased were not used when initializing TFBertModel: ['mlm___cls', 'nsp___cls']\n",
            "- This IS expected if you are initializing TFBertModel from the checkpoint of a model trained on another task or with another architecture (e.g. initializing a BertForSequenceClassification model from a BertForPretraining model).\n",
            "- This IS NOT expected if you are initializing TFBertModel from the checkpoint of a model that you expect to be exactly identical (initializing a BertForSequenceClassification model from a BertForSequenceClassification model).\n",
            "All the weights of TFBertModel were initialized from the model checkpoint at bert-base-uncased.\n",
            "If your task is similar to the task the model of the checkpoint was trained on, you can already use TFBertModel for predictions without further training.\n"
          ],
          "name": "stderr"
        },
        {
          "output_type": "stream",
          "text": [
            "Epoch 1/3\n",
            "WARNING:tensorflow:Gradients do not exist for variables ['tf_bert_model/bert/pooler/dense/kernel:0', 'tf_bert_model/bert/pooler/dense/bias:0'] when minimizing the loss.\n",
            "WARNING:tensorflow:Gradients do not exist for variables ['tf_bert_model/bert/pooler/dense/kernel:0', 'tf_bert_model/bert/pooler/dense/bias:0'] when minimizing the loss.\n",
            "WARNING:tensorflow:Gradients do not exist for variables ['tf_bert_model/bert/pooler/dense/kernel:0', 'tf_bert_model/bert/pooler/dense/bias:0'] when minimizing the loss.\n",
            "WARNING:tensorflow:Gradients do not exist for variables ['tf_bert_model/bert/pooler/dense/kernel:0', 'tf_bert_model/bert/pooler/dense/bias:0'] when minimizing the loss.\n",
            "2298/2298 [==============================] - 2847s 1s/step - loss: 0.2709 - sparse_categorical_accuracy: 0.9156\n",
            "Epoch 2/3\n",
            "2298/2298 [==============================] - 2850s 1s/step - loss: 0.1842 - sparse_categorical_accuracy: 0.9453\n",
            "Epoch 3/3\n",
            "2298/2298 [==============================] - 2849s 1s/step - loss: 0.1600 - sparse_categorical_accuracy: 0.9518\n"
          ],
          "name": "stdout"
        }
      ]
    },
    {
      "cell_type": "code",
      "metadata": {
        "id": "OdrlpLPUy1vg",
        "outputId": "cbacbb0b-521b-43b9-aad5-b8611116b145",
        "colab": {
          "base_uri": "https://localhost:8080/",
          "height": 605
        }
      },
      "source": [
        "main(train_model = False)"
      ],
      "execution_count": null,
      "outputs": [
        {
          "output_type": "display_data",
          "data": {
            "image/png": "[encoded data removed]",
            "text/plain": [
              "<Figure size 720x720 with 2 Axes>"
            ]
          },
          "metadata": {
            "tags": [],
            "needs_background": "light"
          }
        }
      ]
    }
  ]
}
